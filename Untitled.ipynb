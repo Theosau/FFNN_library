{
 "cells": [
  {
   "cell_type": "code",
   "execution_count": 10,
   "metadata": {},
   "outputs": [],
   "source": [
    "import nn_lib\n",
    "import numpy as np\n",
    "import matplotlib.pyplot as plt"
   ]
  },
  {
   "cell_type": "code",
   "execution_count": 72,
   "metadata": {},
   "outputs": [],
   "source": [
    "MLP = nn_lib.MultiLayerNetwork([4],[16,10,3],['relu','relu','sigmoid'])"
   ]
  },
  {
   "cell_type": "code",
   "execution_count": 73,
   "metadata": {
    "scrolled": true
   },
   "outputs": [
    {
     "data": {
      "text/plain": [
       "(150, 7)"
      ]
     },
     "execution_count": 73,
     "metadata": {},
     "output_type": "execute_result"
    }
   ],
   "source": [
    "data = np.loadtxt('iris.dat')\n",
    "data.shape"
   ]
  },
  {
   "cell_type": "code",
   "execution_count": 74,
   "metadata": {},
   "outputs": [],
   "source": [
    "x = data[:, :4]\n",
    "y = data[:, 4:]\n",
    "\n",
    "split_idx = int(0.2 * len(x))"
   ]
  },
  {
   "cell_type": "code",
   "execution_count": 75,
   "metadata": {},
   "outputs": [],
   "source": [
    "trainer = nn_lib.Trainer(\n",
    "        network=MLP,\n",
    "        batch_size=16,\n",
    "        nb_epoch=2000,\n",
    "        learning_rate=0.005,\n",
    "        loss_fun=\"softmax_cross_entropy\",\n",
    "        shuffle_flag=True\n",
    "    )"
   ]
  },
  {
   "cell_type": "code",
   "execution_count": 76,
   "metadata": {},
   "outputs": [],
   "source": [
    "x_shuffled, y_shuffled = trainer.shuffle(x,y)"
   ]
  },
  {
   "cell_type": "code",
   "execution_count": 77,
   "metadata": {},
   "outputs": [],
   "source": [
    "x_val = x_shuffled[:split_idx]\n",
    "y_val = y_shuffled[:split_idx]\n",
    "x_train = x_shuffled[split_idx:]\n",
    "y_train = y_shuffled[split_idx:]\n",
    "\n",
    "prep_input = nn_lib.Preprocessor(x_train)\n",
    "x_train_pre = prep_input.apply(x_train)\n",
    "x_val_pre = prep_input.apply(x_val)"
   ]
  },
  {
   "cell_type": "code",
   "execution_count": 78,
   "metadata": {},
   "outputs": [],
   "source": [
    "loss_arr = trainer.train(x_train_pre, y_train)"
   ]
  },
  {
   "cell_type": "code",
   "execution_count": 79,
   "metadata": {},
   "outputs": [
    {
     "data": {
      "image/png": "[encoded data removed]",
      "text/plain": [
       "<Figure size 432x288 with 1 Axes>"
      ]
     },
     "metadata": {
      "needs_background": "light"
     },
     "output_type": "display_data"
    }
   ],
   "source": [
    "plt.figure()\n",
    "plt.plot(loss_arr)\n",
    "plt.yscale('log')"
   ]
  },
  {
   "cell_type": "code",
   "execution_count": 80,
   "metadata": {},
   "outputs": [
    {
     "name": "stdout",
     "output_type": "stream",
     "text": [
      "Validation accuracy: 0.6333333333333333\n"
     ]
    }
   ],
   "source": [
    "preds = MLP(x_val_pre).argmax(axis=1).squeeze()\n",
    "targets = y_val.argmax(axis=1).squeeze()\n",
    "accuracy = (preds == targets).mean()\n",
    "print(\"Validation accuracy: {}\".format(accuracy))"
   ]
  },
  {
   "cell_type": "code",
   "execution_count": 81,
   "metadata": {},
   "outputs": [
    {
     "data": {
      "text/plain": [
       "array([[9.99935443e-01, 4.87211881e-04, 4.85868302e-13],\n",
       "       [2.13651789e-06, 9.99996925e-01, 9.94388788e-01],\n",
       "       [9.04012876e-05, 9.99910585e-01, 2.91842016e-01],\n",
       "       [9.99954353e-01, 3.60908758e-04, 2.28850647e-13],\n",
       "       [1.58965590e-07, 9.99999770e-01, 9.99460256e-01],\n",
       "       [2.50292652e-06, 9.99996472e-01, 9.93418308e-01],\n",
       "       [4.03488240e-06, 9.99994590e-01, 9.83612676e-01],\n",
       "       [3.60842006e-05, 9.99960373e-01, 6.78368884e-01],\n",
       "       [1.39444251e-05, 9.99983311e-01, 9.20722604e-01],\n",
       "       [6.71956494e-04, 9.99439525e-01, 3.07168792e-02],\n",
       "       [1.54808567e-06, 9.99997665e-01, 9.97876100e-01],\n",
       "       [9.99989096e-01, 1.00667106e-04, 3.25760499e-14],\n",
       "       [2.03992731e-04, 9.99813281e-01, 1.10291934e-01],\n",
       "       [9.99823589e-01, 1.18673606e-03, 2.60195305e-12],\n",
       "       [5.15566282e-04, 9.99562036e-01, 4.36117954e-02],\n",
       "       [9.69413746e-06, 9.99987920e-01, 9.49924896e-01],\n",
       "       [3.43736132e-04, 9.99700997e-01, 4.80785638e-02],\n",
       "       [5.23703387e-07, 9.99999190e-01, 9.98995562e-01],\n",
       "       [1.15696023e-03, 9.99099095e-01, 8.86038731e-03],\n",
       "       [5.15903982e-07, 9.99999202e-01, 9.98999383e-01],\n",
       "       [9.99833083e-01, 1.14350382e-03, 1.36339529e-12],\n",
       "       [9.99927029e-01, 5.45139074e-04, 4.82501301e-13],\n",
       "       [4.93276044e-06, 9.99993462e-01, 9.76234869e-01],\n",
       "       [2.85455070e-07, 9.99999570e-01, 9.99269786e-01],\n",
       "       [4.42132380e-04, 9.99631332e-01, 1.89328559e-02],\n",
       "       [2.21472336e-03, 9.98357638e-01, 6.66170224e-03],\n",
       "       [9.99923326e-01, 5.69131455e-04, 6.17058930e-13],\n",
       "       [1.71229863e-06, 9.99997580e-01, 9.87726042e-01],\n",
       "       [9.99971294e-01, 2.38650455e-04, 9.24623866e-14],\n",
       "       [9.99969838e-01, 2.49157179e-04, 1.18247850e-13]])"
      ]
     },
     "execution_count": 81,
     "metadata": {},
     "output_type": "execute_result"
    }
   ],
   "source": [
    "MLP(x_val_pre)"
   ]
  },
  {
   "cell_type": "code",
   "execution_count": 82,
   "metadata": {},
   "outputs": [
    {
     "data": {
      "text/plain": [
       "array([[1., 0., 0.],\n",
       "       [0., 0., 1.],\n",
       "       [0., 1., 0.],\n",
       "       [1., 0., 0.],\n",
       "       [0., 0., 1.],\n",
       "       [0., 0., 1.],\n",
       "       [0., 0., 1.],\n",
       "       [0., 1., 0.],\n",
       "       [0., 1., 0.],\n",
       "       [0., 1., 0.],\n",
       "       [0., 0., 1.],\n",
       "       [1., 0., 0.],\n",
       "       [0., 1., 0.],\n",
       "       [1., 0., 0.],\n",
       "       [0., 1., 0.],\n",
       "       [0., 0., 1.],\n",
       "       [0., 1., 0.],\n",
       "       [0., 0., 1.],\n",
       "       [0., 1., 0.],\n",
       "       [0., 0., 1.],\n",
       "       [1., 0., 0.],\n",
       "       [1., 0., 0.],\n",
       "       [0., 0., 1.],\n",
       "       [0., 0., 1.],\n",
       "       [0., 1., 0.],\n",
       "       [0., 1., 0.],\n",
       "       [1., 0., 0.],\n",
       "       [0., 0., 1.],\n",
       "       [1., 0., 0.],\n",
       "       [1., 0., 0.]])"
      ]
     },
     "execution_count": 82,
     "metadata": {},
     "output_type": "execute_result"
    }
   ],
   "source": [
    "y_val"
   ]
  },
  {
   "cell_type": "code",
   "execution_count": null,
   "metadata": {},
   "outputs": [],
   "source": []
  }
 ],
 "metadata": {
  "kernelspec": {
   "display_name": "Python 3",
   "language": "python",
   "name": "python3"
  },
  "language_info": {
   "codemirror_mode": {
    "name": "ipython",
    "version": 3
   },
   "file_extension": ".py",
   "mimetype": "text/x-python",
   "name": "python",
   "nbconvert_exporter": "python",
   "pygments_lexer": "ipython3",
   "version": "3.7.1"
  }
 },
 "nbformat": 4,
 "nbformat_minor": 2
}
