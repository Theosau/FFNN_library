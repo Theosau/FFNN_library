{
 "cells": [
  {
   "cell_type": "code",
   "execution_count": 1,
   "metadata": {},
   "outputs": [],
   "source": [
    "import nn_lib\n",
    "import numpy as np"
   ]
  },
  {
   "cell_type": "code",
   "execution_count": 2,
   "metadata": {},
   "outputs": [
    {
     "name": "stdout",
     "output_type": "stream",
     "text": [
      "0 2\n",
      "1 3\n",
      "2 1\n"
     ]
    }
   ],
   "source": [
    "MLP = nn_lib.MultiLayerNetwork([4],[2,3,1],['relu','relu','sigmoid'])"
   ]
  },
  {
   "cell_type": "code",
   "execution_count": 3,
   "metadata": {},
   "outputs": [],
   "source": [
    "x = np.random.random((10,4))"
   ]
  },
  {
   "cell_type": "code",
   "execution_count": 10,
   "metadata": {},
   "outputs": [
    {
     "data": {
      "text/plain": [
       "array([[0.96936596],\n",
       "       [0.89518247],\n",
       "       [0.45371626],\n",
       "       [0.99565218],\n",
       "       [0.11683348],\n",
       "       [0.20083325],\n",
       "       [0.73100754],\n",
       "       [0.12674666],\n",
       "       [0.40652071],\n",
       "       [0.61842026]])"
      ]
     },
     "execution_count": 10,
     "metadata": {},
     "output_type": "execute_result"
    }
   ],
   "source": [
    "grad_z = np.random.random((10,1))\n",
    "grad_z"
   ]
  },
  {
   "cell_type": "code",
   "execution_count": 11,
   "metadata": {},
   "outputs": [
    {
     "data": {
      "text/plain": [
       "array([[0.27872256],\n",
       "       [0.24268794],\n",
       "       [0.27917841],\n",
       "       [0.28361342],\n",
       "       [0.27715343],\n",
       "       [0.27373519],\n",
       "       [0.280149  ],\n",
       "       [0.27942817],\n",
       "       [0.28021306],\n",
       "       [0.23406351]])"
      ]
     },
     "execution_count": 11,
     "metadata": {},
     "output_type": "execute_result"
    }
   ],
   "source": [
    "MLP.forward(x)"
   ]
  },
  {
   "cell_type": "code",
   "execution_count": 12,
   "metadata": {},
   "outputs": [
    {
     "name": "stdout",
     "output_type": "stream",
     "text": [
      "2\n",
      "1\n",
      "0\n"
     ]
    },
    {
     "data": {
      "text/plain": [
       "array([[ 0.00459963,  0.00108197, -0.00148565, -0.00986835],\n",
       "       [ 0.0392341 ,  0.08230071, -0.05851461, -0.08339691],\n",
       "       [ 0.00215504,  0.00050693, -0.00069606, -0.00462356],\n",
       "       [ 0.00477466,  0.00112314, -0.00154218, -0.01024388],\n",
       "       [ 0.00055245,  0.00012995, -0.00017844, -0.00118527],\n",
       "       [ 0.0004247 ,  0.01512268, -0.00956186, -0.00075111],\n",
       "       [ 0.00347948,  0.00081847, -0.00112385, -0.00746511],\n",
       "       [ 0.00060234,  0.00014169, -0.00019455, -0.00129231],\n",
       "       [ 0.00193524,  0.00045523, -0.00062507, -0.004152  ],\n",
       "       [ 0.02643865,  0.05545991, -0.03943119, -0.0561986 ]])"
      ]
     },
     "execution_count": 12,
     "metadata": {},
     "output_type": "execute_result"
    }
   ],
   "source": [
    "MLP.backward(grad_z)"
   ]
  },
  {
   "cell_type": "code",
   "execution_count": 18,
   "metadata": {},
   "outputs": [],
   "source": [
    "input_dataset,target_dataset = np.zeros((10,3)), np.random.random((10,1))"
   ]
  },
  {
   "cell_type": "code",
   "execution_count": 19,
   "metadata": {},
   "outputs": [
    {
     "data": {
      "text/plain": [
       "array([[0.        , 0.        , 0.        , 0.36545785],\n",
       "       [0.        , 0.        , 0.        , 0.85262748],\n",
       "       [0.        , 0.        , 0.        , 0.85864589],\n",
       "       [0.        , 0.        , 0.        , 0.22736255],\n",
       "       [0.        , 0.        , 0.        , 0.34620608],\n",
       "       [0.        , 0.        , 0.        , 0.5862846 ],\n",
       "       [0.        , 0.        , 0.        , 0.04875989],\n",
       "       [0.        , 0.        , 0.        , 0.92614553],\n",
       "       [0.        , 0.        , 0.        , 0.70852093],\n",
       "       [0.        , 0.        , 0.        , 0.7951083 ]])"
      ]
     },
     "execution_count": 19,
     "metadata": {},
     "output_type": "execute_result"
    }
   ],
   "source": [
    "np.hstack((input_dataset,target_dataset))"
   ]
  },
  {
   "cell_type": "code",
   "execution_count": 21,
   "metadata": {},
   "outputs": [
    {
     "data": {
      "text/plain": [
       "array([[0.        , 0.        , 0.        , 0.85262748],\n",
       "       [0.        , 0.        , 0.        , 0.36545785],\n",
       "       [0.        , 0.        , 0.        , 0.04875989],\n",
       "       [0.        , 0.        , 0.        , 0.5862846 ],\n",
       "       [0.        , 0.        , 0.        , 0.22736255],\n",
       "       [0.        , 0.        , 0.        , 0.7951083 ],\n",
       "       [0.        , 0.        , 0.        , 0.92614553],\n",
       "       [0.        , 0.        , 0.        , 0.85864589],\n",
       "       [0.        , 0.        , 0.        , 0.70852093],\n",
       "       [0.        , 0.        , 0.        , 0.34620608]])"
      ]
     },
     "execution_count": 21,
     "metadata": {},
     "output_type": "execute_result"
    }
   ],
   "source": [
    "a = np.hstack((input_dataset,target_dataset))\n",
    "np.random.shuffle(a)\n",
    "a"
   ]
  },
  {
   "cell_type": "code",
   "execution_count": 38,
   "metadata": {},
   "outputs": [
    {
     "data": {
      "text/plain": [
       "array([0.85262748, 0.36545785, 0.04875989, 0.5862846 , 0.22736255,\n",
       "       0.7951083 , 0.92614553, 0.85864589, 0.70852093, 0.34620608])"
      ]
     },
     "execution_count": 38,
     "metadata": {},
     "output_type": "execute_result"
    }
   ],
   "source": [
    "a[:,-1]"
   ]
  },
  {
   "cell_type": "code",
   "execution_count": 53,
   "metadata": {},
   "outputs": [
    {
     "data": {
      "text/plain": [
       "array([[0.        , 0.        , 0.        , 0.85262748],\n",
       "       [0.        , 0.        , 0.        , 0.36545785],\n",
       "       [0.        , 0.        , 0.        , 0.04875989],\n",
       "       [0.        , 0.        , 0.        , 0.5862846 ],\n",
       "       [0.        , 0.        , 0.        , 0.22736255],\n",
       "       [0.        , 0.        , 0.        , 0.7951083 ],\n",
       "       [0.        , 0.        , 0.        , 0.92614553],\n",
       "       [0.        , 0.        , 0.        , 0.85864589],\n",
       "       [0.        , 0.        , 0.        , 0.70852093],\n",
       "       [0.        , 0.        , 0.        , 0.34620608]])"
      ]
     },
     "execution_count": 53,
     "metadata": {},
     "output_type": "execute_result"
    }
   ],
   "source": [
    "a"
   ]
  },
  {
   "cell_type": "code",
   "execution_count": 41,
   "metadata": {},
   "outputs": [
    {
     "data": {
      "text/plain": [
       "4"
      ]
     },
     "execution_count": 41,
     "metadata": {},
     "output_type": "execute_result"
    }
   ],
   "source": [
    "np.ceil(3.1).astype(int)"
   ]
  },
  {
   "cell_type": "code",
   "execution_count": 92,
   "metadata": {},
   "outputs": [],
   "source": [
    "data = a\n",
    "batch_size = 4\n",
    "n_batches = np.floor(data.shape[0]/batch_size).astype(int)\n",
    "batch_list = np.vsplit(data[:int(n_batches*batch_size)],n_batches)\n",
    "batch_list.append(a[int(n_batches*batch_size):])"
   ]
  },
  {
   "cell_type": "code",
   "execution_count": 93,
   "metadata": {},
   "outputs": [],
   "source": [
    "batch_list.append(a[int(n_batches*batch_size):])"
   ]
  },
  {
   "cell_type": "code",
   "execution_count": 95,
   "metadata": {},
   "outputs": [
    {
     "data": {
      "text/plain": [
       "(3,)"
      ]
     },
     "execution_count": 95,
     "metadata": {},
     "output_type": "execute_result"
    }
   ],
   "source": []
  },
  {
   "cell_type": "code",
   "execution_count": 84,
   "metadata": {},
   "outputs": [
    {
     "data": {
      "text/plain": [
       "(1, 2, 4)"
      ]
     },
     "execution_count": 84,
     "metadata": {},
     "output_type": "execute_result"
    }
   ],
   "source": [
    "np.shape(remainder)"
   ]
  },
  {
   "cell_type": "code",
   "execution_count": 85,
   "metadata": {},
   "outputs": [
    {
     "ename": "ValueError",
     "evalue": "all the input array dimensions except for the concatenation axis must match exactly",
     "output_type": "error",
     "traceback": [
      "\u001b[1;31m---------------------------------------------------------------------------\u001b[0m",
      "\u001b[1;31mValueError\u001b[0m                                Traceback (most recent call last)",
      "\u001b[1;32m<ipython-input-85-ea77cadc9e59>\u001b[0m in \u001b[0;36m<module>\u001b[1;34m\u001b[0m\n\u001b[1;32m----> 1\u001b[1;33m \u001b[0mnp\u001b[0m\u001b[1;33m.\u001b[0m\u001b[0mconcatenate\u001b[0m\u001b[1;33m(\u001b[0m\u001b[1;33m(\u001b[0m\u001b[0mbatch_list\u001b[0m\u001b[1;33m,\u001b[0m\u001b[0mremainder\u001b[0m\u001b[1;33m)\u001b[0m\u001b[1;33m)\u001b[0m\u001b[1;33m\u001b[0m\u001b[1;33m\u001b[0m\u001b[0m\n\u001b[0m",
      "\u001b[1;31mValueError\u001b[0m: all the input array dimensions except for the concatenation axis must match exactly"
     ]
    }
   ],
   "source": [
    "np.concatenate((batch_list,remainder))"
   ]
  },
  {
   "cell_type": "code",
   "execution_count": 71,
   "metadata": {},
   "outputs": [
    {
     "data": {
      "text/plain": [
       "array([[0.        , 0.        , 0.        , 0.70852093],\n",
       "       [0.        , 0.        , 0.        , 0.34620608]])"
      ]
     },
     "execution_count": 71,
     "metadata": {},
     "output_type": "execute_result"
    }
   ],
   "source": [
    "a[int(n_batches*batch_size):]"
   ]
  },
  {
   "cell_type": "code",
   "execution_count": null,
   "metadata": {},
   "outputs": [],
   "source": []
  }
 ],
 "metadata": {
  "kernelspec": {
   "display_name": "Python 3",
   "language": "python",
   "name": "python3"
  },
  "language_info": {
   "codemirror_mode": {
    "name": "ipython",
    "version": 3
   },
   "file_extension": ".py",
   "mimetype": "text/x-python",
   "name": "python",
   "nbconvert_exporter": "python",
   "pygments_lexer": "ipython3",
   "version": "3.7.1"
  }
 },
 "nbformat": 4,
 "nbformat_minor": 2
}
