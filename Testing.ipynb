{
 "cells": [
  {
   "cell_type": "code",
   "execution_count": 1,
   "metadata": {
    "scrolled": true
   },
   "outputs": [
    {
     "name": "stderr",
     "output_type": "stream",
     "text": [
      "Using TensorFlow backend.\n",
      "/home/sacha/.local/lib/python3.6/site-packages/tensorflow/python/framework/dtypes.py:516: FutureWarning: Passing (type, 1) or '1type' as a synonym of type is deprecated; in a future version of numpy, it will be understood as (type, (1,)) / '(1,)type'.\n",
      "  _np_qint8 = np.dtype([(\"qint8\", np.int8, 1)])\n",
      "/home/sacha/.local/lib/python3.6/site-packages/tensorflow/python/framework/dtypes.py:517: FutureWarning: Passing (type, 1) or '1type' as a synonym of type is deprecated; in a future version of numpy, it will be understood as (type, (1,)) / '(1,)type'.\n",
      "  _np_quint8 = np.dtype([(\"quint8\", np.uint8, 1)])\n",
      "/home/sacha/.local/lib/python3.6/site-packages/tensorflow/python/framework/dtypes.py:518: FutureWarning: Passing (type, 1) or '1type' as a synonym of type is deprecated; in a future version of numpy, it will be understood as (type, (1,)) / '(1,)type'.\n",
      "  _np_qint16 = np.dtype([(\"qint16\", np.int16, 1)])\n",
      "/home/sacha/.local/lib/python3.6/site-packages/tensorflow/python/framework/dtypes.py:519: FutureWarning: Passing (type, 1) or '1type' as a synonym of type is deprecated; in a future version of numpy, it will be understood as (type, (1,)) / '(1,)type'.\n",
      "  _np_quint16 = np.dtype([(\"quint16\", np.uint16, 1)])\n",
      "/home/sacha/.local/lib/python3.6/site-packages/tensorflow/python/framework/dtypes.py:520: FutureWarning: Passing (type, 1) or '1type' as a synonym of type is deprecated; in a future version of numpy, it will be understood as (type, (1,)) / '(1,)type'.\n",
      "  _np_qint32 = np.dtype([(\"qint32\", np.int32, 1)])\n",
      "/home/sacha/.local/lib/python3.6/site-packages/tensorflow/python/framework/dtypes.py:525: FutureWarning: Passing (type, 1) or '1type' as a synonym of type is deprecated; in a future version of numpy, it will be understood as (type, (1,)) / '(1,)type'.\n",
      "  np_resource = np.dtype([(\"resource\", np.ubyte, 1)])\n"
     ]
    }
   ],
   "source": [
    "import model_generator as mg"
   ]
  },
  {
   "cell_type": "code",
   "execution_count": 2,
   "metadata": {
    "scrolled": true
   },
   "outputs": [],
   "source": [
    "import pandas as pd\n",
    "from sklearn import preprocessing\n",
    "from sklearn.decomposition import PCA\n",
    "from sklearn.model_selection import train_test_split\n",
    "\n",
    "import numpy as np\n",
    "\n",
    "df = pd.read_csv('part2_data.csv')\n",
    "\n",
    "# Drop claim amount, useless\n",
    "df.drop('claim_amount', inplace=True, axis=1)\n",
    "# Features vs labels\n",
    "features = df[df.columns[:-2]]\n",
    "labels = df[df.columns[-1]]\n",
    "# Split into train and tests\n",
    "X_train, X_test, y_train, y_test = train_test_split(\n",
    "    features, labels, test_size=0.25, random_state=42)\n",
    "\n",
    "y_train = y_train.values.reshape(-1,1)\n",
    "y_test = y_test.values.reshape(-1,1)"
   ]
  },
  {
   "cell_type": "code",
   "execution_count": 3,
   "metadata": {},
   "outputs": [
    {
     "name": "stdout",
     "output_type": "stream",
     "text": [
      "(15000, 8) (15000, 1) (5000, 8) (5000, 1)\n"
     ]
    }
   ],
   "source": [
    "print(X_train.shape, y_train.shape, X_test.shape, y_test.shape)"
   ]
  },
  {
   "cell_type": "code",
   "execution_count": 4,
   "metadata": {},
   "outputs": [
    {
     "name": "stdout",
     "output_type": "stream",
     "text": [
      "WARNING:tensorflow:From /home/sacha/.local/lib/python3.6/site-packages/tensorflow/python/ops/nn_impl.py:180: add_dispatch_support.<locals>.wrapper (from tensorflow.python.ops.array_ops) is deprecated and will be removed in a future version.\n",
      "Instructions for updating:\n",
      "Use tf.where in 2.0, which has the same broadcast rule as np.where\n"
     ]
    }
   ],
   "source": [
    "model = mg.model_v0_trial(8, 1)"
   ]
  },
  {
   "cell_type": "code",
   "execution_count": 5,
   "metadata": {
    "scrolled": true
   },
   "outputs": [
    {
     "name": "stdout",
     "output_type": "stream",
     "text": [
      "WARNING:tensorflow:From /home/sacha/.local/lib/python3.6/site-packages/keras/backend/tensorflow_backend.py:422: The name tf.global_variables is deprecated. Please use tf.compat.v1.global_variables instead.\n",
      "\n",
      "Train on 15000 samples, validate on 5000 samples\n",
      "WARNING:tensorflow:From /home/sacha/.local/lib/python3.6/site-packages/keras/callbacks/tensorboard_v1.py:200: The name tf.summary.merge_all is deprecated. Please use tf.compat.v1.summary.merge_all instead.\n",
      "\n",
      "WARNING:tensorflow:From /home/sacha/.local/lib/python3.6/site-packages/keras/callbacks/tensorboard_v1.py:203: The name tf.summary.FileWriter is deprecated. Please use tf.compat.v1.summary.FileWriter instead.\n",
      "\n",
      "Epoch 1/30\n",
      " - 27s - loss: 0.3358 - accuracy: 0.9063 - val_loss: 0.3163 - val_accuracy: 0.9086\n",
      "WARNING:tensorflow:From /home/sacha/.local/lib/python3.6/site-packages/keras/callbacks/tensorboard_v1.py:343: The name tf.Summary is deprecated. Please use tf.compat.v1.Summary instead.\n",
      "\n",
      "Epoch 2/30\n",
      " - 26s - loss: 0.3188 - accuracy: 0.9064 - val_loss: 0.3072 - val_accuracy: 0.9086\n",
      "Epoch 3/30\n",
      " - 30s - loss: 0.3121 - accuracy: 0.9064 - val_loss: 0.3056 - val_accuracy: 0.9086\n",
      "Epoch 4/30\n",
      " - 36s - loss: 0.3149 - accuracy: 0.9064 - val_loss: 0.3035 - val_accuracy: 0.9086\n",
      "Epoch 5/30\n",
      " - 26s - loss: 0.3107 - accuracy: 0.9063 - val_loss: 0.3046 - val_accuracy: 0.9086\n",
      "Epoch 6/30\n",
      " - 27s - loss: 0.3100 - accuracy: 0.9064 - val_loss: 0.3011 - val_accuracy: 0.9086\n",
      "Epoch 7/30\n",
      " - 28s - loss: 0.3119 - accuracy: 0.9063 - val_loss: 0.3038 - val_accuracy: 0.9086\n",
      "Epoch 8/30\n",
      " - 29s - loss: 0.3106 - accuracy: 0.9063 - val_loss: 0.3040 - val_accuracy: 0.9086\n",
      "Epoch 9/30\n",
      " - 27s - loss: 0.3097 - accuracy: 0.9064 - val_loss: 0.3020 - val_accuracy: 0.9086\n",
      "Epoch 10/30\n",
      " - 28s - loss: 0.3123 - accuracy: 0.9063 - val_loss: 0.3130 - val_accuracy: 0.9086\n",
      "Epoch 11/30\n",
      " - 28s - loss: 0.3107 - accuracy: 0.9064 - val_loss: 0.3073 - val_accuracy: 0.9086\n",
      "Epoch 12/30\n",
      " - 27s - loss: 0.3105 - accuracy: 0.9063 - val_loss: 0.3061 - val_accuracy: 0.9086\n",
      "Epoch 13/30\n",
      " - 26s - loss: 0.3110 - accuracy: 0.9063 - val_loss: 0.3013 - val_accuracy: 0.9086\n",
      "Epoch 14/30\n",
      " - 27s - loss: 0.3096 - accuracy: 0.9064 - val_loss: 0.3032 - val_accuracy: 0.9086\n",
      "Epoch 15/30\n",
      " - 26s - loss: 0.3112 - accuracy: 0.9063 - val_loss: 0.3051 - val_accuracy: 0.9086\n",
      "Epoch 16/30\n",
      " - 27s - loss: 0.3107 - accuracy: 0.9063 - val_loss: 0.3059 - val_accuracy: 0.9086\n",
      "Epoch 17/30\n",
      " - 27s - loss: 0.3104 - accuracy: 0.9063 - val_loss: 0.3054 - val_accuracy: 0.9086\n",
      "Epoch 18/30\n",
      " - 26s - loss: 0.3104 - accuracy: 0.9063 - val_loss: 0.3011 - val_accuracy: 0.9086\n",
      "Epoch 19/30\n",
      " - 27s - loss: 0.3088 - accuracy: 0.9064 - val_loss: 0.3014 - val_accuracy: 0.9086\n",
      "Epoch 20/30\n",
      " - 27s - loss: 0.3086 - accuracy: 0.9064 - val_loss: 0.3022 - val_accuracy: 0.9086\n",
      "Epoch 21/30\n",
      " - 27s - loss: 0.3090 - accuracy: 0.9064 - val_loss: 0.3025 - val_accuracy: 0.9086\n",
      "Epoch 22/30\n",
      " - 25s - loss: 0.3090 - accuracy: 0.9064 - val_loss: 0.3033 - val_accuracy: 0.9086\n",
      "Epoch 23/30\n",
      " - 26s - loss: 0.3079 - accuracy: 0.9064 - val_loss: 0.3003 - val_accuracy: 0.9086\n",
      "Epoch 24/30\n",
      " - 27s - loss: 0.3085 - accuracy: 0.9064 - val_loss: 0.3034 - val_accuracy: 0.9086\n",
      "Epoch 25/30\n",
      " - 27s - loss: 0.3103 - accuracy: 0.9064 - val_loss: 0.3040 - val_accuracy: 0.9086\n",
      "Epoch 26/30\n",
      " - 27s - loss: 0.3092 - accuracy: 0.9064 - val_loss: 0.3046 - val_accuracy: 0.9086\n",
      "Epoch 27/30\n",
      " - 27s - loss: 0.3077 - accuracy: 0.9064 - val_loss: 0.3035 - val_accuracy: 0.9086\n",
      "Epoch 28/30\n",
      " - 27s - loss: 0.3077 - accuracy: 0.9064 - val_loss: 0.2996 - val_accuracy: 0.9086\n",
      "Epoch 29/30\n",
      " - 29s - loss: 0.3069 - accuracy: 0.9064 - val_loss: 0.2989 - val_accuracy: 0.9086\n",
      "Epoch 30/30\n",
      " - 27s - loss: 0.3079 - accuracy: 0.9063 - val_loss: 0.3250 - val_accuracy: 0.9086\n",
      "Baseline error : 9.14%\n"
     ]
    }
   ],
   "source": [
    "mg.train_model(X_train, y_train, X_test, y_test, model, 30, 1, \"test_3\")"
   ]
  },
  {
   "cell_type": "code",
   "execution_count": 6,
   "metadata": {},
   "outputs": [
    {
     "name": "stdout",
     "output_type": "stream",
     "text": [
      "predictions done\n"
     ]
    },
    {
     "data": {
      "text/plain": [
       "0.9086"
      ]
     },
     "execution_count": 6,
     "metadata": {},
     "output_type": "execute_result"
    }
   ],
   "source": [
    "mg.accuracy(X_test, y_test, model)"
   ]
  },
  {
   "cell_type": "code",
   "execution_count": 7,
   "metadata": {},
   "outputs": [
    {
     "name": "stdout",
     "output_type": "stream",
     "text": [
      "predictions done\n"
     ]
    },
    {
     "data": {
      "text/plain": [
       "array([[4543.,    0.],\n",
       "       [ 457.,    0.]])"
      ]
     },
     "execution_count": 7,
     "metadata": {},
     "output_type": "execute_result"
    }
   ],
   "source": [
    "mg.compute_cm(X_test, y_test, model)"
   ]
  },
  {
   "cell_type": "code",
   "execution_count": 8,
   "metadata": {},
   "outputs": [
    {
     "name": "stdout",
     "output_type": "stream",
     "text": [
      "Model: \"sequential_1\"\n",
      "_________________________________________________________________\n",
      "Layer (type)                 Output Shape              Param #   \n",
      "=================================================================\n",
      "dense_1 (Dense)              (None, 8)                 72        \n",
      "_________________________________________________________________\n",
      "dense_2 (Dense)              (None, 8)                 72        \n",
      "_________________________________________________________________\n",
      "dense_3 (Dense)              (None, 1)                 9         \n",
      "=================================================================\n",
      "Total params: 153\n",
      "Trainable params: 153\n",
      "Non-trainable params: 0\n",
      "_________________________________________________________________\n"
     ]
    }
   ],
   "source": [
    "model.summary()"
   ]
  }
 ],
 "metadata": {
  "kernelspec": {
   "display_name": "Python 3",
   "language": "python",
   "name": "python3"
  },
  "language_info": {
   "codemirror_mode": {
    "name": "ipython",
    "version": 3
   },
   "file_extension": ".py",
   "mimetype": "text/x-python",
   "name": "python",
   "nbconvert_exporter": "python",
   "pygments_lexer": "ipython3",
   "version": "3.6.8"
  }
 },
 "nbformat": 4,
 "nbformat_minor": 2
}
